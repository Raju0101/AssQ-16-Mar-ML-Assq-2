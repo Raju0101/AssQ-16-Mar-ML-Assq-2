{
 "cells": [
  {
   "cell_type": "markdown",
   "id": "f4000cc6-fed6-429a-9a8e-3bf74c6abaca",
   "metadata": {},
   "source": [
    "# Assignment 16-March, ML-Assq-2"
   ]
  },
  {
   "cell_type": "code",
   "execution_count": 1,
   "id": "9be99e07-a191-4193-a364-b418e1923efb",
   "metadata": {},
   "outputs": [],
   "source": [
    "# Q1: Define overfitting and underfitting in machine learning. What are the consequences of each, and how \n",
    "# can they be mitigated?"
   ]
  },
  {
   "cell_type": "code",
   "execution_count": null,
   "id": "26600e27-d03e-452f-8abb-902a8c95e06d",
   "metadata": {},
   "outputs": [],
   "source": [
    "# Underfitting - Underfitting means that your model makes accurate, but initially incorrect predictions.\n",
    "# In this case, train error is large and val/test error is large too.\n",
    "# Model is Trained---------Accurecy Low 60%......High  Bias\n",
    "# Model is Tested---------Accurecy Low 50%......High Varience\n",
    "\n",
    "\n",
    "# Overfitting - Overfitting means that your model makes not accurate predictions. In this case, train error \n",
    "# is very small and val/test error is large.\n",
    "# Model is Trained---------Accurecy high 90%......Low Bias\n",
    "# Model is Tested---------Accurecy low 60%......High Varience\n",
    "\n",
    "# Generalised Model - \n",
    "#                        Train-------Accurecy High 90%..........Low Bias\n",
    "#                        Test-------Accurecy High 90%..........Low Variance\n",
    "\n"
   ]
  },
  {
   "cell_type": "code",
   "execution_count": null,
   "id": "d29ac0ec-d55a-4c5f-aa9a-328dcd64fbbc",
   "metadata": {},
   "outputs": [],
   "source": []
  },
  {
   "cell_type": "code",
   "execution_count": 2,
   "id": "fc9fc1ab-88e5-422d-be3d-19ce4bad4e69",
   "metadata": {},
   "outputs": [],
   "source": [
    "# Q2: How can we reduce overfitting? Explain in brief."
   ]
  },
  {
   "cell_type": "code",
   "execution_count": null,
   "id": "74d8874f-751f-4ffb-accd-df667a9407f7",
   "metadata": {},
   "outputs": [],
   "source": [
    "# Here we will discuss possible options to prevent overfitting, which helps improve the model performance.\n",
    "\n",
    "# Train with more data. ...\n",
    "# Data augmentation. ...\n",
    "# Addition of noise to the input data. ...\n",
    "# Feature selection. ...\n",
    "# Cross-validation. ...\n",
    "# Simplify data. ...\n",
    "# Regularization. ...\n",
    "# Ensembling.\n",
    "\n",
    "# Overfitting - Overfitting means that your model makes not accurate predictions. In this case, train error \n",
    "# is very small and val/test error is large.\n",
    "# Model is Trained---------Accurecy high 90%......Low Bias\n",
    "# Model is Tested---------Accurecy low 60%......High Varience\n",
    "\n",
    "# Generalised Model - \n",
    "#                        Train-------Accurecy High 90%..........Low Bias\n",
    "#                        Test-------Accurecy High 90%..........Low Variance\n"
   ]
  },
  {
   "cell_type": "code",
   "execution_count": null,
   "id": "79be747d-ae3c-4abe-a442-369117a0c046",
   "metadata": {},
   "outputs": [],
   "source": []
  },
  {
   "cell_type": "code",
   "execution_count": 3,
   "id": "2dd10909-14da-43a0-aa79-02699c406aeb",
   "metadata": {},
   "outputs": [],
   "source": [
    "# Q3: Explain underfitting. List scenarios where underfitting can occur in ML."
   ]
  },
  {
   "cell_type": "code",
   "execution_count": null,
   "id": "cc40e95b-5a93-4414-a881-cbb91c4352c4",
   "metadata": {},
   "outputs": [],
   "source": [
    "# Underfitting is a scenario in data science where a data model is unable to capture the relationship between \n",
    "# the input and output variables accurately.\n",
    "\n",
    "# Underfitting occurs when a model is too simple — informed by too few features or regularized\n",
    "# too much — which makes it inflexible in learning from the dataset. Simple learners tend to have \n",
    "# less variance in their predictions but more bias towards wrong outcomes\n",
    "\n",
    "# Underfitting means that your model makes accurate, but initially incorrect predictions.\n",
    "# In this case, train error is large and val/test error is large too.\n",
    "# Model is Trained---------Accurecy Low 60%......High  Bias\n",
    "# Model is Tested---------Accurecy Low 50%......High Varience"
   ]
  },
  {
   "cell_type": "code",
   "execution_count": null,
   "id": "84490d57-0db4-42da-ac5d-830604a57d5d",
   "metadata": {},
   "outputs": [],
   "source": []
  },
  {
   "cell_type": "code",
   "execution_count": 4,
   "id": "97a366bb-8d12-424a-8619-df1af25c5a07",
   "metadata": {},
   "outputs": [],
   "source": [
    "# Q4: Explain the bias-variance tradeoff in machine learning. What is the relationship between bias and \n",
    "# variance, and how do they affect model performance?"
   ]
  },
  {
   "cell_type": "code",
   "execution_count": null,
   "id": "dd1dc786-a22d-4f79-90f0-e38fe780fb12",
   "metadata": {},
   "outputs": [],
   "source": [
    "#bias-variance tradeoff - :\n",
    "# the bias–variance tradeoff is the property of a model that the variance of the parameter \n",
    "# estimated across samples can be reduced by increasing the bias in the estimated parameters.\n",
    "\n",
    "#  Bias- In the simplest terms, Bias is the difference between the Predicted Value and the Expected Value.\n",
    "\n",
    "# “Bias and variance are complements of each other” The increase of one will result in the \n",
    "# decrease of the other and vice versa. Hence, finding the right balance of values is known as \n",
    "# the Bias-Variance Tradeoff. Target Function. An ideal algorithm should neither underfit nor overfit the data.\n",
    "\n",
    "# Simply stated, variance is the variability in the model prediction—how much the ML function can adjust\n",
    "# depending on the given data set. Variance comes from highly complex models with a large number of features.\n",
    "# Models with high bias will have low variance. Models with high variance will have a low bias."
   ]
  },
  {
   "cell_type": "code",
   "execution_count": null,
   "id": "c531b2e2-dc6c-44d1-9c1f-779bc30b6936",
   "metadata": {},
   "outputs": [],
   "source": []
  },
  {
   "cell_type": "code",
   "execution_count": 5,
   "id": "4ec8bb38-8a45-4030-9cc2-6426275ec35a",
   "metadata": {},
   "outputs": [],
   "source": [
    "# Q5: Discuss some common methods for detecting overfitting and underfitting in machine learning models. \n",
    "# How can you determine whether your model is overfitting or underfitting?"
   ]
  },
  {
   "cell_type": "code",
   "execution_count": null,
   "id": "8a770326-2053-4d26-8cbb-1f1f0d4470e9",
   "metadata": {},
   "outputs": [],
   "source": [
    "# We can determine whether a predictive model is underfitting or overfitting the training \n",
    "# data by looking at the prediction error on the training data and the evaluation data.\n",
    "# our model is underfitting the training data when the model performs poorly on the training data.\n",
    "\n",
    "## Underfitting - Underfitting means that your model makes accurate, but initially incorrect predictions.\n",
    "# In this case, train error is large and val/test error is large too.\n",
    "# Model is Trained---------Accurecy Low 60%......High  Bias\n",
    "# Model is Tested---------Accurecy Low 50%......High Varience\n",
    "\n",
    "\n",
    "# Overfitting - Overfitting means that your model makes not accurate predictions. In this case, train error \n",
    "# is very small and val/test error is large.\n",
    "# Model is Trained---------Accurecy high 90%......Low Bias\n",
    "# Model is Tested---------Accurecy low 60%......High Varience\n",
    "\n",
    "# Generalised Model - \n",
    "#                        Train-------Accurecy High 90%..........Low Bias\n",
    "#                        Test-------Accurecy High 90%..........Low Variance\n"
   ]
  },
  {
   "cell_type": "code",
   "execution_count": null,
   "id": "b8ce7b88-e87c-4f39-a4c4-f796a41fa4ac",
   "metadata": {},
   "outputs": [],
   "source": []
  },
  {
   "cell_type": "code",
   "execution_count": 6,
   "id": "b2d7fa35-8807-4b61-994d-742c0747b4df",
   "metadata": {},
   "outputs": [],
   "source": [
    "# Q6: Compare and contrast bias and variance in machine learning. What are some examples of high bias \n",
    "# and high variance models, and how do they differ in terms of their performance?"
   ]
  },
  {
   "cell_type": "code",
   "execution_count": null,
   "id": "13704cff-b07a-425b-a986-070df1ba6196",
   "metadata": {},
   "outputs": [],
   "source": [
    "# Variance comes from highly complex models with a large number of features. \n",
    "# Models with high bias will have low variance. \n",
    "\n",
    "# Examples of high-bias machine learning algorithms include: Linear Regression,\n",
    "# Linear Discriminant Analysis and Logistic Regression.\n",
    "\n",
    "# Low-Bias, High-Variance: This is a case of overfitting where model predictions are inconsistent\n",
    "# and accurate on average. The predicted values will be accurate(average) but will be scattered.\n",
    "# High-Bias, Low-Variance: This is a case of underfitting where predictions are consistent but inaccurate on average.\n",
    "\n",
    "# Bias in ML is an sort of mistake in which some aspects of a dataset are given more weight\n",
    "# and/or representation than others. A skewed outcome, low accuracy levels, and analytical errors\n",
    "# result from a dataset that is biased that does not represent a model's use case accurately."
   ]
  },
  {
   "cell_type": "code",
   "execution_count": null,
   "id": "0032064c-d5c1-43d1-92b6-ef5f2e108ba8",
   "metadata": {},
   "outputs": [],
   "source": []
  },
  {
   "cell_type": "code",
   "execution_count": 7,
   "id": "028d7616-a13e-47ce-8bf5-6f29f084f6c2",
   "metadata": {},
   "outputs": [],
   "source": [
    "# Q7: What is regularization in machine learning, and how can it be used to prevent overfitting? Describe \n",
    "# some common regularization techniques and how they work."
   ]
  },
  {
   "cell_type": "code",
   "execution_count": 8,
   "id": "c64bbc96-a651-42f1-bca1-2be12fd1870c",
   "metadata": {},
   "outputs": [],
   "source": [
    "# Regularization refers to techniques that are used to calibrate machine learning models in \n",
    "# order to minimize the adjusted loss function and prevent overfitting or underfitting.\n",
    "\n",
    "# Regularization comes into play and shrinks the learned estimates towards zero.\n",
    "# In other words, it tunes the loss function by adding a penalty term, \n",
    "# that prevents excessive fluctuation of the coefficients. Thereby, reducing the chances of overfitting.\n",
    "\n",
    "# When a model performs very well for training data but has poor performance with test data (new data),\n",
    "# it is known as overfitting. In this case, the machine learning model learns the details and \n",
    "# noise in the training data such that it negatively affects the performance of the model on test data.\n",
    "\n",
    "# L2 and L1 are the most common types of regularization. Regularization works on the premise that smaller \n",
    "# weights lead to simpler models which in results helps in avoiding overfitting. So to obtain a smaller weight matrix,\n",
    "# these techniques add a 'regularization term' along with the loss to obtain the cost function."
   ]
  },
  {
   "cell_type": "code",
   "execution_count": 9,
   "id": "1faa08bc-34c7-4bf8-8f02-89ee7e04cc47",
   "metadata": {},
   "outputs": [
    {
     "data": {
      "text/plain": [
       "10"
      ]
     },
     "execution_count": 9,
     "metadata": {},
     "output_type": "execute_result"
    }
   ],
   "source": [
    "a=10\n",
    "a"
   ]
  },
  {
   "cell_type": "code",
   "execution_count": null,
   "id": "8e751ae6-8e78-46aa-8969-f86edc814864",
   "metadata": {},
   "outputs": [],
   "source": []
  }
 ],
 "metadata": {
  "kernelspec": {
   "display_name": "Python 3 (ipykernel)",
   "language": "python",
   "name": "python3"
  },
  "language_info": {
   "codemirror_mode": {
    "name": "ipython",
    "version": 3
   },
   "file_extension": ".py",
   "mimetype": "text/x-python",
   "name": "python",
   "nbconvert_exporter": "python",
   "pygments_lexer": "ipython3",
   "version": "3.10.6"
  }
 },
 "nbformat": 4,
 "nbformat_minor": 5
}
